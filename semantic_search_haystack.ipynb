{
  "nbformat": 4,
  "nbformat_minor": 0,
  "metadata": {
    "colab": {
      "provenance": [],
      "authorship_tag": "ABX9TyNu1nJxAoky0SW9q0JF9/EK",
      "include_colab_link": true
    },
    "kernelspec": {
      "name": "python3",
      "display_name": "Python 3"
    },
    "language_info": {
      "name": "python"
    }
  },
  "cells": [
    {
      "cell_type": "markdown",
      "metadata": {
        "id": "view-in-github",
        "colab_type": "text"
      },
      "source": [
        "<a href=\"https://colab.research.google.com/github/LNshuti/national-bank-of-Rwanda/blob/main/semantic_search_haystack.ipynb\" target=\"_parent\"><img src=\"https://colab.research.google.com/assets/colab-badge.svg\" alt=\"Open In Colab\"/></a>"
      ]
    },
    {
      "cell_type": "code",
      "execution_count": 1,
      "metadata": {
        "id": "hrQRyE0wrfjY"
      },
      "outputs": [],
      "source": [
        "from haystack.document_stores import ElasticsearchDocumentStore\n",
        "\n",
        "from haystack.nodes import EmbeddingRetriever\n",
        "from haystack.nodes.other.docs2answers import Docs2Answers\n",
        "from haystack.utils import launch_es, print_answers, fetch_archive_from_http\n",
        "import pandas as pd\n",
        "from haystack.pipelines import Pipeline"
      ]
    },
    {
      "cell_type": "code",
      "source": [
        "def basic_faq_pipeline():\n",
        "    document_store = ElasticsearchDocumentStore(\n",
        "        host=\"localhost\",\n",
        "        username=\"\",\n",
        "        password=\"\",\n",
        "        index=\"document\",\n",
        "        embedding_field=\"question_emb\",\n",
        "        embedding_dim=384,\n",
        "        excluded_meta_data=[\"question_emb\"],\n",
        "        similarity=\"cosine\",\n",
        "    )\n",
        "\n",
        "    retriever = EmbeddingRetriever(\n",
        "        document_store=document_store,\n",
        "        embedding_model=\"sentence-transformers/all-MiniLM-L6-v2\",\n",
        "        use_gpu=True,\n",
        "        scale_score=False,\n",
        "    )\n",
        "\n",
        "    doc_to_answers = Docs2Answers()\n",
        "\n",
        "    doc_dir = \"data/basic_faq_pipeline\"\n",
        "    s3_url = \"https://core-engineering.s3.eu-central-1.amazonaws.com/public/scripts/small_faq_covid.csv1.zip\"\n",
        "    fetch_archive_from_http(url=s3_url, output_dir=doc_dir)\n",
        "\n",
        "    df = pd.read_csv(f\"{doc_dir}/small_faq_covid.csv\")\n",
        "\n",
        "    # Minimal cleaning\n",
        "    df.fillna(value=\"\", inplace=True)\n",
        "    df[\"question\"] = df[\"question\"].apply(lambda x: x.strip())\n",
        "    print(df.head())\n",
        "\n",
        "    # Get embeddings for our questions from the FAQs\n",
        "    questions = list(df[\"question\"].values)\n",
        "    df[\"question_emb\"] = retriever.embed_queries(queries=questions).tolist()\n",
        "    df = df.rename(columns={\"question\": \"content\"})\n",
        "\n",
        "    # Convert Dataframe to list of dicts and index them in our DocumentStore\n",
        "    docs_to_index = df.to_dict(orient=\"records\")\n",
        "    document_store.write_documents(docs_to_index)\n",
        "\n",
        "    # Initialize a Pipeline (this time without a reader) and ask questions\n",
        "    pipeline = Pipeline()\n",
        "    pipeline.add_node(component=retriever, name=\"Retriever\", inputs=[\"Query\"])\n",
        "    pipeline.add_node(component=doc_to_answers, name=\"Docs2Answers\", inputs=[\"Retriever\"])\n",
        "\n",
        "    # Ask a question\n",
        "    prediction = pipeline.run(query=\"How is the virus spreading?\", params={\"Retriever\": {\"top_k\": 10}})\n",
        "\n",
        "    print_answers(prediction, details=\"medium\")\n",
        "    return prediction\n",
        "\n",
        "\n",
        "if __name__ == \"__main__\":\n",
        "    launch_es()\n",
        "    basic_faq_pipeline()\n"
      ],
      "metadata": {
        "id": "FtLzALMvzg86"
      },
      "execution_count": null,
      "outputs": []
    }
  ]
}